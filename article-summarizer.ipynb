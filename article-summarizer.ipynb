{
 "cells": [
  {
   "cell_type": "code",
   "execution_count": 36,
   "metadata": {},
   "outputs": [],
   "source": [
    "import numpy as np\n",
    "import matplotlib.pyplot as plt\n",
    "import pandas as pd\n",
    "import seaborn as sns   \n",
    "import nltk \n",
    "from nltk.corpus import stopwords\n",
    "import tqdm\n",
    "import spacy\n",
    "from vaderSentiment.vaderSentiment import SentimentIntensityAnalyzer\n",
    "from collections import Counter\n"
   ]
  },
  {
   "cell_type": "markdown",
   "metadata": {},
   "source": [
    "# Web Mining and Applied NLP (44-620)\n",
    "\n",
    "## Final Project: Article Summarizer\n",
    "\n",
    "### Student Name: Philip Fowler\n",
    "\n",
    "Perform the tasks described in the Markdown cells below.  When you have completed the assignment make sure your code cells have all been run (and have output beneath them) and ensure you have committed and pushed ALL of your changes to your assignment repository.\n",
    "\n",
    "You should bring in code from previous assignments to help you answer the questions below.\n",
    "\n",
    "Every question that requires you to write code will have a code cell underneath it; you may either write your entire solution in that cell or write it in a python file (`.py`), then import and run the appropriate code to answer the question."
   ]
  },
  {
   "cell_type": "markdown",
   "metadata": {},
   "source": [
    "1. Find on the internet an article or blog post about a topic that interests you and you are able to get the text for using the technologies we have applied in the course.  Get the html for the article and store it in a file (which you must submit with your project)"
   ]
  },
  {
   "cell_type": "code",
   "execution_count": 37,
   "metadata": {},
   "outputs": [],
   "source": [
    "# This is how the data was downloaded using the Kaggle API\n",
    "# The data is already in the data folder, thus, it is now commented out\n",
    "# The most challenging part was to install the Kaggle API and to set up the API key \n",
    "# I initially put the API key in the wrong place.  usr/bin/kaggle.json is the correct location  \n",
    "\n",
    "# import kagglehub\n",
    "# import shutil\n",
    "# import os\n",
    "\n",
    "# Download latest version\n",
    "# path = kagglehub.dataset_download(\"austinreese/trump-tweets\")\n",
    "\n",
    "# Create data directory if it doesn't exist\n",
    "# data_dir = \"data\"\n",
    "# if not os.path.exists(data_dir):\n",
    "#    os.makedirs(data_dir)\n",
    "\n",
    "# Move downloaded files to data directory\n",
    "# for file_name in os.listdir(path):\n",
    "#    full_file_name = os.path.join(path, file_name)\n",
    "#    if os.path.isfile(full_file_name):\n",
    "#        shutil.move(full_file_name, data_dir)\n",
    "\n",
    "# print(\"Files have been moved to the data folder.\")"
   ]
  },
  {
   "cell_type": "code",
   "execution_count": 38,
   "metadata": {},
   "outputs": [
    {
     "name": "stdout",
     "output_type": "stream",
     "text": [
      "           id                                               link  \\\n",
      "0  1698308935  https://twitter.com/realDonaldTrump/status/169...   \n",
      "1  1701461182  https://twitter.com/realDonaldTrump/status/170...   \n",
      "2  1737479987  https://twitter.com/realDonaldTrump/status/173...   \n",
      "3  1741160716  https://twitter.com/realDonaldTrump/status/174...   \n",
      "4  1773561338  https://twitter.com/realDonaldTrump/status/177...   \n",
      "\n",
      "                                             content                 date  \\\n",
      "0  Be sure to tune in and watch Donald Trump on L...  2009-05-04 13:54:25   \n",
      "1  Donald Trump will be appearing on The View tom...  2009-05-04 20:00:10   \n",
      "2  Donald Trump reads Top Ten Financial Tips on L...  2009-05-08 08:38:08   \n",
      "3  New Blog Post: Celebrity Apprentice Finale and...  2009-05-08 15:40:15   \n",
      "4  \"My persona will never be that of a wallflower...  2009-05-12 09:07:28   \n",
      "\n",
      "   retweets  favorites mentions hashtags  \n",
      "0       510        917      NaN      NaN  \n",
      "1        34        267      NaN      NaN  \n",
      "2        13         19      NaN      NaN  \n",
      "3        11         26      NaN      NaN  \n",
      "4      1375       1945      NaN      NaN  \n"
     ]
    }
   ],
   "source": [
    "# Load the CSV file into a dataframe\n",
    "df_trump_tweets = pd.read_csv('data/realdonaldtrump.csv')\n",
    "print(df_trump_tweets.head())"
   ]
  },
  {
   "cell_type": "code",
   "execution_count": 39,
   "metadata": {},
   "outputs": [],
   "source": [
    "# Select the columns 'content' and 'date' from the dataframe\n",
    "df_content_date = df_trump_tweets[['content', 'date']]\n",
    "\n",
    "# Save the selected columns to an HTML file\n",
    "df_content_date.to_html('trumptweets.html', index=False)"
   ]
  },
  {
   "cell_type": "markdown",
   "metadata": {},
   "source": []
  },
  {
   "cell_type": "markdown",
   "metadata": {},
   "source": [
    "2. Read in your article's html source from the file you created in question 1 and do sentiment analysis on the article/post's text (use `.get_text()`).  Print the polarity score with an appropriate label.  Additionally print the number of sentences in the original article (with an appropriate label)"
   ]
  },
  {
   "cell_type": "code",
   "execution_count": 40,
   "metadata": {},
   "outputs": [
    {
     "name": "stdout",
     "output_type": "stream",
     "text": [
      "                                             content  vader_sentiment\n",
      "0  Be sure to tune in and watch Donald Trump on L...           0.5255\n",
      "1  Donald Trump will be appearing on The View tom...           0.7712\n",
      "2  Donald Trump reads Top Ten Financial Tips on L...           0.6468\n",
      "3  New Blog Post: Celebrity Apprentice Finale and...           0.0000\n",
      "4  \"My persona will never be that of a wallflower...           0.0000\n",
      "                                                 content  vader_sentiment\n",
      "43347  Joe Biden was a TOTAL FAILURE in Government. H...          -0.7469\n",
      "43348  Will be interviewed on @ seanhannity tonight a...           0.5411\n",
      "43349                         pic.twitter.com/3lm1spbU8X           0.0000\n",
      "43350                         pic.twitter.com/vpCE5MadUz           0.0000\n",
      "43351                         pic.twitter.com/VLlc0BHW41           0.0000\n"
     ]
    }
   ],
   "source": [
    "# Initialize the VADER sentiment analyzer\n",
    "analyzer = SentimentIntensityAnalyzer()\n",
    "\n",
    "# Function to calculate sentiment\n",
    "def get_vader_sentiment(text):\n",
    "    sentiment = analyzer.polarity_scores(text)\n",
    "    return sentiment['compound']\n",
    "\n",
    "# Apply the function to the 'content' column and create a new column 'vader_sentiment'\n",
    "df_trump_tweets['vader_sentiment'] = df_trump_tweets['content'].apply(get_vader_sentiment)\n",
    "\n",
    "# Display the DataFrame\n",
    "print(df_trump_tweets[['content', 'vader_sentiment']].head())\n",
    "print(df_trump_tweets[['content', 'vader_sentiment']].tail())\n"
   ]
  },
  {
   "cell_type": "code",
   "execution_count": 41,
   "metadata": {},
   "outputs": [
    {
     "name": "stdout",
     "output_type": "stream",
     "text": [
      "Number of rows containing 'pic.twitter.com': 3685\n"
     ]
    }
   ],
   "source": [
    "# There is no point analyzing the rows that contain pic.twitter.com  can't do much with that.\n",
    "# Count the number of rows containing 'pic.twitter.com'\n",
    "count = df_trump_tweets['content'].str.contains('pic.twitter.com').sum()\n",
    "\n",
    "print(f\"Number of rows containing 'pic.twitter.com': {count}\")"
   ]
  },
  {
   "cell_type": "code",
   "execution_count": 42,
   "metadata": {},
   "outputs": [
    {
     "name": "stdout",
     "output_type": "stream",
     "text": [
      "Number of rows containing 'pic.twitter.com': 0\n",
      "<class 'pandas.core.frame.DataFrame'>\n",
      "Index: 39667 entries, 0 to 43348\n",
      "Data columns (total 9 columns):\n",
      " #   Column           Non-Null Count  Dtype  \n",
      "---  ------           --------------  -----  \n",
      " 0   id               39667 non-null  int64  \n",
      " 1   link             39667 non-null  object \n",
      " 2   content          39667 non-null  object \n",
      " 3   date             39667 non-null  object \n",
      " 4   retweets         39667 non-null  int64  \n",
      " 5   favorites        39667 non-null  int64  \n",
      " 6   mentions         19216 non-null  object \n",
      " 7   hashtags         4116 non-null   object \n",
      " 8   vader_sentiment  39667 non-null  float64\n",
      "dtypes: float64(1), int64(3), object(5)\n",
      "memory usage: 3.0+ MB\n",
      "None\n"
     ]
    }
   ],
   "source": [
    "#let's delete the rows containing 'pic.twitter.com'\n",
    "df_trump_tweets = df_trump_tweets[~df_trump_tweets['content'].str.contains('pic.twitter.com')]  \n",
    "\n",
    "count = df_trump_tweets['content'].str.contains('pic.twitter.com').sum()\n",
    "print(f\"Number of rows containing 'pic.twitter.com': {count}\")\n",
    "print(df_trump_tweets.info())"
   ]
  },
  {
   "cell_type": "markdown",
   "metadata": {},
   "source": [
    "3. Load the article text into a trained `spaCy` pipeline, and determine the 5 most frequent tokens (converted to lower case).  Print the common tokens with an appropriate label.  Additionally, print the tokens their frequencies (with appropriate labels)"
   ]
  },
  {
   "cell_type": "code",
   "execution_count": 43,
   "metadata": {},
   "outputs": [
    {
     "name": "stdout",
     "output_type": "stream",
     "text": [
      "Text length: 5272985\n",
      "Token: realdonaldtrump, Frequency: 8402\n",
      "Token: great, Frequency: 6033\n",
      "Token: trump, Frequency: 5541\n",
      "Token: president, Frequency: 2851\n",
      "Token: people, Frequency: 2568\n"
     ]
    }
   ],
   "source": [
    "# Load the English model\n",
    "nlp = spacy.load('en_core_web_sm')\n",
    "\n",
    "# Concatenate all text in the 'content' column\n",
    "all_text = ' '.join(df_trump_tweets['content'].astype(str).tolist())\n",
    "\n",
    "# Check the length of the text\n",
    "text_length = len(all_text)\n",
    "print(f\"Text length: {text_length}\")\n",
    "\n",
    "# Increase the max_length limit\n",
    "nlp.max_length = text_length + 1000  # Adding a buffer to the length\n",
    "\n",
    "# Process the text with spacy\n",
    "doc = nlp(all_text)\n",
    "\n",
    "# Extract tokens, convert to lower case, and filter out stop words and punctuation\n",
    "tokens = [token.text.lower() for token in doc if not token.is_stop and not token.is_punct]\n",
    "\n",
    "# Get the five most common tokens\n",
    "token_freq = Counter(tokens).most_common(5)\n",
    "\n",
    "# Print the five most common tokens and their frequencies\n",
    "for token, freq in token_freq:\n",
    "    print(f\"Token: {token}, Frequency: {freq}\")"
   ]
  },
  {
   "cell_type": "markdown",
   "metadata": {},
   "source": [
    "4. Load the article text into a trained `spaCy` pipeline, and determine the 5 most frequent lemmas (converted to lower case).  Print the common lemmas with an appropriate label.  Additionally, print the lemmas with their frequencies (with appropriate labels)."
   ]
  },
  {
   "cell_type": "code",
   "execution_count": 44,
   "metadata": {},
   "outputs": [
    {
     "name": "stdout",
     "output_type": "stream",
     "text": [
      "Text length: 5272985\n",
      "Lemma: realdonaldtrump, Frequency: 8402\n",
      "Lemma: great, Frequency: 6342\n",
      "Lemma: trump, Frequency: 5575\n",
      "Lemma: thank, Frequency: 4149\n",
      "Lemma: president, Frequency: 2907\n"
     ]
    }
   ],
   "source": [
    "# Load the English model\n",
    "nlp = spacy.load('en_core_web_sm')\n",
    "\n",
    "# Concatenate all text in the 'content' column\n",
    "all_text = ' '.join(df_trump_tweets['content'].astype(str).tolist())\n",
    "\n",
    "# Check the length of the text\n",
    "text_length = len(all_text)\n",
    "print(f\"Text length: {text_length}\")\n",
    "\n",
    "# Increase the max_length limit\n",
    "nlp.max_length = text_length + 1000  # Adding a buffer to the length\n",
    "\n",
    "# Process the text with spacy\n",
    "doc = nlp(all_text)\n",
    "\n",
    "# Extract lemmas, convert to lower case, and filter out stop words and punctuation\n",
    "lemmas = [token.lemma_.lower() for token in doc if not token.is_stop and not token.is_punct]\n",
    "\n",
    "# Get the five most common lemmas\n",
    "lemma_freq = Counter(lemmas).most_common(5)\n",
    "\n",
    "# Print the five most common lemmas and their frequencies\n",
    "for lemma, freq in lemma_freq:\n",
    "    print(f\"Lemma: {lemma}, Frequency: {freq}\")"
   ]
  },
  {
   "cell_type": "markdown",
   "metadata": {},
   "source": [
    "5. Make a list containing the scores (using tokens) of every sentence in the article, and plot a histogram with appropriate titles and axis labels of the scores. From your histogram, what seems to be the most common range of scores (put the answer in a comment after your code)?"
   ]
  },
  {
   "cell_type": "code",
   "execution_count": 49,
   "metadata": {},
   "outputs": [
    {
     "name": "stdout",
     "output_type": "stream",
     "text": [
      "                                             content  token_score  lemma_score\n",
      "0  Be sure to tune in and watch Donald Trump on L...     0.026517     0.026517\n",
      "1  Donald Trump will be appearing on The View tom...     0.068614     0.068614\n",
      "2  Donald Trump reads Top Ten Financial Tips on L...     0.044040     0.044040\n",
      "3  New Blog Post: Celebrity Apprentice Finale and...     0.000000     0.000000\n",
      "4  \"My persona will never be that of a wallflower...     0.000000     0.000000\n"
     ]
    }
   ],
   "source": [
    "from vaderSentiment.vaderSentiment import SentimentIntensityAnalyzer\n",
    "\n",
    "# Load the English model\n",
    "nlp = spacy.load('en_core_web_sm')\n",
    "\n",
    "# Initialize the VADER sentiment analyzer\n",
    "analyzer = SentimentIntensityAnalyzer()\n",
    "\n",
    "# Function to calculate sentiment score for a given text using tokens\n",
    "def get_token_score(text):\n",
    "    doc = nlp(text)\n",
    "    token_scores = [analyzer.polarity_scores(token.text)['compound'] for token in doc if not token.is_stop and not token.is_punct]\n",
    "    return sum(token_scores) / len(token_scores) if token_scores else 0\n",
    "\n",
    "# Function to calculate sentiment score for a given text using lemmas\n",
    "def get_lemma_score(text):\n",
    "    doc = nlp(text)\n",
    "    lemma_scores = [analyzer.polarity_scores(token.lemma_)['compound'] for token in doc if not token.is_stop and not token.is_punct]\n",
    "    return sum(lemma_scores) / len(lemma_scores) if lemma_scores else 0\n",
    "\n",
    "# Apply the functions to the 'content' column and create new columns 'token_score' and 'lemma_score'\n",
    "df_trump_tweets['token_score'] = df_trump_tweets['content'].apply(get_token_score)\n",
    "df_trump_tweets['lemma_score'] = df_trump_tweets['content'].apply(get_lemma_score)\n",
    "\n",
    "# Display the DataFrame with the new columns\n",
    "print(df_trump_tweets[['content', 'token_score', 'lemma_score']].head())"
   ]
  },
  {
   "cell_type": "code",
   "execution_count": 50,
   "metadata": {},
   "outputs": [
    {
     "data": {
      "image/png": "[encoded data removed]",
      "text/plain": [
       "<Figure size 640x480 with 1 Axes>"
      ]
     },
     "metadata": {},
     "output_type": "display_data"
    }
   ],
   "source": [
    "# Plot the histogram of the token_score column\n",
    "plt.hist(df_trump_tweets['token_score'], bins=20, edgecolor='black')\n",
    "plt.title('Histogram of Token Scores')\n",
    "plt.xlabel('Token Score')\n",
    "plt.ylabel('Frequency')\n",
    "plt.show()"
   ]
  },
  {
   "cell_type": "code",
   "execution_count": 51,
   "metadata": {},
   "outputs": [
    {
     "name": "stdout",
     "output_type": "stream",
     "text": [
      "Mean: 0.03968927391214934\n",
      "Median: 0.02848\n",
      "Mode: 0.0\n",
      "Max: 0.52235\n",
      "Min: -0.4404\n",
      "Range: 0.96275\n",
      "Standard Deviation: 0.08696466991534824\n"
     ]
    }
   ],
   "source": [
    "# Calculate statistics for the 'token_score' column\n",
    "mean_score = df_trump_tweets['token_score'].mean()\n",
    "median_score = df_trump_tweets['token_score'].median()\n",
    "mode_score = df_trump_tweets['token_score'].mode()[0]  # mode() returns a Series, take the first value\n",
    "max_score = df_trump_tweets['token_score'].max()\n",
    "min_score = df_trump_tweets['token_score'].min()\n",
    "range_score = max_score - min_score\n",
    "std_deviation_score = df_trump_tweets['token_score'].std()\n",
    "\n",
    "# Print the statistics\n",
    "print(f\"Mean: {mean_score}\")\n",
    "print(f\"Median: {median_score}\")\n",
    "print(f\"Mode: {mode_score}\")\n",
    "print(f\"Max: {max_score}\")\n",
    "print(f\"Min: {min_score}\")\n",
    "print(f\"Range: {range_score}\")\n",
    "print(f\"Standard Deviation: {std_deviation_score}\")"
   ]
  },
  {
   "cell_type": "markdown",
   "metadata": {},
   "source": [
    "6. Make a list containing the scores (using lemmas) of every sentence in the article, and plot a histogram with appropriate titles and axis labels of the scores.  From your histogram, what seems to be the most common range of scores (put the answer in a comment after your code)?"
   ]
  },
  {
   "cell_type": "code",
   "execution_count": null,
   "metadata": {},
   "outputs": [
    {
     "data": {
      "image/png": "[encoded data removed]",
      "text/plain": [
       "<Figure size 640x480 with 1 Axes>"
      ]
     },
     "metadata": {},
     "output_type": "display_data"
    }
   ],
   "source": [
    "# Lemma score was calculated in a previous step.  No reason to recalculate here.\n",
    "# Plot the histogram of the lemma_score column\n",
    "plt.hist(df_trump_tweets['lemma_score'], bins=20, edgecolor='black')\n",
    "plt.title('Histogram of Lemma Scores')\n",
    "plt.xlabel('Lemma Score')\n",
    "plt.ylabel('Frequency')\n",
    "plt.show()"
   ]
  },
  {
   "cell_type": "code",
   "execution_count": 54,
   "metadata": {},
   "outputs": [
    {
     "name": "stdout",
     "output_type": "stream",
     "text": [
      "Mean: 0.0386645034520253\n",
      "Median: 0.028478571428571426\n",
      "Mode: 0.0\n",
      "Max: 0.52235\n",
      "Min: -0.4404\n",
      "Range: 0.96275\n",
      "Standard Deviation: 0.08541845257232926\n"
     ]
    }
   ],
   "source": [
    "# Calculate statistics for the 'lemma_score' column\n",
    "mean_score = df_trump_tweets['lemma_score'].mean()\n",
    "median_score = df_trump_tweets['lemma_score'].median()\n",
    "mode_score = df_trump_tweets['lemma_score'].mode()[0]  # mode() returns a Series, take the first value\n",
    "max_score = df_trump_tweets['lemma_score'].max()\n",
    "min_score = df_trump_tweets['lemma_score'].min()\n",
    "range_score = max_score - min_score\n",
    "std_deviation_score = df_trump_tweets['lemma_score'].std()\n",
    "\n",
    "# Print the statistics\n",
    "print(f\"Mean: {mean_score}\")\n",
    "print(f\"Median: {median_score}\")\n",
    "print(f\"Mode: {mode_score}\")\n",
    "print(f\"Max: {max_score}\")\n",
    "print(f\"Min: {min_score}\")\n",
    "print(f\"Range: {range_score}\")\n",
    "print(f\"Standard Deviation: {std_deviation_score}\")"
   ]
  },
  {
   "cell_type": "markdown",
   "metadata": {},
   "source": [
    "7. Using the histograms from questions 5 and 6, decide a \"cutoff\" score for tokens and lemmas such that fewer than half the sentences would have a score greater than the cutoff score.  Record the scores in this Markdown cell\n",
    "\n",
    "* Cutoff Score (tokens): \n",
    "* Cutoff Score (lemmas):\n",
    "\n",
    "Feel free to change these scores as you generate your summaries.  Ideally, we're shooting for at least 6 sentences for our summary, but don't want more than 10 (these numbers are rough estimates; they depend on the length of your article)."
   ]
  },
  {
   "cell_type": "code",
   "execution_count": 55,
   "metadata": {},
   "outputs": [
    {
     "name": "stdout",
     "output_type": "stream",
     "text": [
      "Token Cutoff Score: 0.02848\n",
      "Lemma Cutoff Score: 0.028478571428571426\n"
     ]
    }
   ],
   "source": [
    "# Calculate the median cutoff scores using the existing 'token_score' and 'lemma_score' columns\n",
    "token_cutoff_score = df_trump_tweets['token_score'].median()\n",
    "lemma_cutoff_score = df_trump_tweets['lemma_score'].median()\n",
    "\n",
    "# Print the cutoff scores\n",
    "print(f\"Token Cutoff Score: {token_cutoff_score}\")\n",
    "print(f\"Lemma Cutoff Score: {lemma_cutoff_score}\")"
   ]
  },
  {
   "cell_type": "markdown",
   "metadata": {},
   "source": [
    "8. Create a summary of the article by going through every sentence in the article and adding it to an (initially) empty list if its score (based on tokens) is greater than the cutoff score you identified in question 8.  If your loop variable is named `sent`, you may find it easier to add `sent.text.strip()` to your list of sentences.  Print the summary (I would cleanly generate the summary text by `join`ing the strings in your list together with a space (`' '.join(sentence_list)`)."
   ]
  },
  {
   "cell_type": "code",
   "execution_count": 59,
   "metadata": {},
   "outputs": [
    {
     "ename": "RuntimeError",
     "evalue": "At least one of TensorFlow 2.0 or PyTorch should be installed. To install TensorFlow 2.0, read the instructions at https://www.tensorflow.org/install/ To install PyTorch, read the instructions at https://pytorch.org/.",
     "output_type": "error",
     "traceback": [
      "\u001b[0;31m---------------------------------------------------------------------------\u001b[0m",
      "\u001b[0;31mRuntimeError\u001b[0m                              Traceback (most recent call last)",
      "Cell \u001b[0;32mIn[59], line 7\u001b[0m\n\u001b[1;32m      4\u001b[0m model_name \u001b[38;5;241m=\u001b[39m \u001b[38;5;124m\"\u001b[39m\u001b[38;5;124msshleifer/distilbart-cnn-12-6\u001b[39m\u001b[38;5;124m\"\u001b[39m  \u001b[38;5;66;03m# You can change this to any other model\u001b[39;00m\n\u001b[1;32m      6\u001b[0m \u001b[38;5;66;03m# Initialize the summarization pipeline with the specified model\u001b[39;00m\n\u001b[0;32m----> 7\u001b[0m summarizer \u001b[38;5;241m=\u001b[39m \u001b[43mpipeline\u001b[49m\u001b[43m(\u001b[49m\u001b[38;5;124;43m\"\u001b[39;49m\u001b[38;5;124;43msummarization\u001b[39;49m\u001b[38;5;124;43m\"\u001b[39;49m\u001b[43m,\u001b[49m\u001b[43m \u001b[49m\u001b[43mmodel\u001b[49m\u001b[38;5;241;43m=\u001b[39;49m\u001b[43mmodel_name\u001b[49m\u001b[43m)\u001b[49m\n\u001b[1;32m      9\u001b[0m \u001b[38;5;66;03m# Initialize the VADER sentiment analyzer\u001b[39;00m\n\u001b[1;32m     10\u001b[0m analyzer \u001b[38;5;241m=\u001b[39m SentimentIntensityAnalyzer()\n",
      "File \u001b[0;32m~/Documents/NWMissouri/module-07-philip/.venv/lib/python3.12/site-packages/transformers/pipelines/__init__.py:926\u001b[0m, in \u001b[0;36mpipeline\u001b[0;34m(task, model, config, tokenizer, feature_extractor, image_processor, processor, framework, revision, use_fast, token, device, device_map, torch_dtype, trust_remote_code, model_kwargs, pipeline_class, **kwargs)\u001b[0m\n\u001b[1;32m    924\u001b[0m \u001b[38;5;28;01mif\u001b[39;00m \u001b[38;5;28misinstance\u001b[39m(model, \u001b[38;5;28mstr\u001b[39m) \u001b[38;5;129;01mor\u001b[39;00m framework \u001b[38;5;129;01mis\u001b[39;00m \u001b[38;5;28;01mNone\u001b[39;00m:\n\u001b[1;32m    925\u001b[0m     model_classes \u001b[38;5;241m=\u001b[39m {\u001b[38;5;124m\"\u001b[39m\u001b[38;5;124mtf\u001b[39m\u001b[38;5;124m\"\u001b[39m: targeted_task[\u001b[38;5;124m\"\u001b[39m\u001b[38;5;124mtf\u001b[39m\u001b[38;5;124m\"\u001b[39m], \u001b[38;5;124m\"\u001b[39m\u001b[38;5;124mpt\u001b[39m\u001b[38;5;124m\"\u001b[39m: targeted_task[\u001b[38;5;124m\"\u001b[39m\u001b[38;5;124mpt\u001b[39m\u001b[38;5;124m\"\u001b[39m]}\n\u001b[0;32m--> 926\u001b[0m     framework, model \u001b[38;5;241m=\u001b[39m \u001b[43minfer_framework_load_model\u001b[49m\u001b[43m(\u001b[49m\n\u001b[1;32m    927\u001b[0m \u001b[43m        \u001b[49m\u001b[43mmodel\u001b[49m\u001b[43m,\u001b[49m\n\u001b[1;32m    928\u001b[0m \u001b[43m        \u001b[49m\u001b[43mmodel_classes\u001b[49m\u001b[38;5;241;43m=\u001b[39;49m\u001b[43mmodel_classes\u001b[49m\u001b[43m,\u001b[49m\n\u001b[1;32m    929\u001b[0m \u001b[43m        \u001b[49m\u001b[43mconfig\u001b[49m\u001b[38;5;241;43m=\u001b[39;49m\u001b[43mconfig\u001b[49m\u001b[43m,\u001b[49m\n\u001b[1;32m    930\u001b[0m \u001b[43m        \u001b[49m\u001b[43mframework\u001b[49m\u001b[38;5;241;43m=\u001b[39;49m\u001b[43mframework\u001b[49m\u001b[43m,\u001b[49m\n\u001b[1;32m    931\u001b[0m \u001b[43m        \u001b[49m\u001b[43mtask\u001b[49m\u001b[38;5;241;43m=\u001b[39;49m\u001b[43mtask\u001b[49m\u001b[43m,\u001b[49m\n\u001b[1;32m    932\u001b[0m \u001b[43m        \u001b[49m\u001b[38;5;241;43m*\u001b[39;49m\u001b[38;5;241;43m*\u001b[39;49m\u001b[43mhub_kwargs\u001b[49m\u001b[43m,\u001b[49m\n\u001b[1;32m    933\u001b[0m \u001b[43m        \u001b[49m\u001b[38;5;241;43m*\u001b[39;49m\u001b[38;5;241;43m*\u001b[39;49m\u001b[43mmodel_kwargs\u001b[49m\u001b[43m,\u001b[49m\n\u001b[1;32m    934\u001b[0m \u001b[43m    \u001b[49m\u001b[43m)\u001b[49m\n\u001b[1;32m    936\u001b[0m model_config \u001b[38;5;241m=\u001b[39m model\u001b[38;5;241m.\u001b[39mconfig\n\u001b[1;32m    937\u001b[0m hub_kwargs[\u001b[38;5;124m\"\u001b[39m\u001b[38;5;124m_commit_hash\u001b[39m\u001b[38;5;124m\"\u001b[39m] \u001b[38;5;241m=\u001b[39m model\u001b[38;5;241m.\u001b[39mconfig\u001b[38;5;241m.\u001b[39m_commit_hash\n",
      "File \u001b[0;32m~/Documents/NWMissouri/module-07-philip/.venv/lib/python3.12/site-packages/transformers/pipelines/base.py:240\u001b[0m, in \u001b[0;36minfer_framework_load_model\u001b[0;34m(model, config, model_classes, task, framework, **model_kwargs)\u001b[0m\n\u001b[1;32m    214\u001b[0m \u001b[38;5;250m\u001b[39m\u001b[38;5;124;03m\"\"\"\u001b[39;00m\n\u001b[1;32m    215\u001b[0m \u001b[38;5;124;03mSelect framework (TensorFlow or PyTorch) to use from the `model` passed. Returns a tuple (framework, model).\u001b[39;00m\n\u001b[1;32m    216\u001b[0m \n\u001b[0;32m   (...)\u001b[0m\n\u001b[1;32m    237\u001b[0m \u001b[38;5;124;03m    `Tuple`: A tuple framework, model.\u001b[39;00m\n\u001b[1;32m    238\u001b[0m \u001b[38;5;124;03m\"\"\"\u001b[39;00m\n\u001b[1;32m    239\u001b[0m \u001b[38;5;28;01mif\u001b[39;00m \u001b[38;5;129;01mnot\u001b[39;00m is_tf_available() \u001b[38;5;129;01mand\u001b[39;00m \u001b[38;5;129;01mnot\u001b[39;00m is_torch_available():\n\u001b[0;32m--> 240\u001b[0m     \u001b[38;5;28;01mraise\u001b[39;00m \u001b[38;5;167;01mRuntimeError\u001b[39;00m(\n\u001b[1;32m    241\u001b[0m         \u001b[38;5;124m\"\u001b[39m\u001b[38;5;124mAt least one of TensorFlow 2.0 or PyTorch should be installed. \u001b[39m\u001b[38;5;124m\"\u001b[39m\n\u001b[1;32m    242\u001b[0m         \u001b[38;5;124m\"\u001b[39m\u001b[38;5;124mTo install TensorFlow 2.0, read the instructions at https://www.tensorflow.org/install/ \u001b[39m\u001b[38;5;124m\"\u001b[39m\n\u001b[1;32m    243\u001b[0m         \u001b[38;5;124m\"\u001b[39m\u001b[38;5;124mTo install PyTorch, read the instructions at https://pytorch.org/.\u001b[39m\u001b[38;5;124m\"\u001b[39m\n\u001b[1;32m    244\u001b[0m     )\n\u001b[1;32m    245\u001b[0m \u001b[38;5;28;01mif\u001b[39;00m \u001b[38;5;28misinstance\u001b[39m(model, \u001b[38;5;28mstr\u001b[39m):\n\u001b[1;32m    246\u001b[0m     model_kwargs[\u001b[38;5;124m\"\u001b[39m\u001b[38;5;124m_from_pipeline\u001b[39m\u001b[38;5;124m\"\u001b[39m] \u001b[38;5;241m=\u001b[39m task\n",
      "\u001b[0;31mRuntimeError\u001b[0m: At least one of TensorFlow 2.0 or PyTorch should be installed. To install TensorFlow 2.0, read the instructions at https://www.tensorflow.org/install/ To install PyTorch, read the instructions at https://pytorch.org/."
     ]
    }
   ],
   "source": [
    "from transformers import pipeline\n",
    "\n",
    "# Specify the model to use for summarization\n",
    "model_name = \"sshleifer/distilbart-cnn-12-6\"  # You can change this to any other model\n",
    "\n",
    "# Initialize the summarization pipeline with the specified model\n",
    "summarizer = pipeline(\"summarization\", model=model_name)\n",
    "\n",
    "# Initialize the VADER sentiment analyzer\n",
    "analyzer = SentimentIntensityAnalyzer()\n",
    "\n",
    "# Function to summarize text\n",
    "def summarize_text(text):\n",
    "    # Summarize the text using the transformer model\n",
    "    summary = summarizer(text, max_length=50, min_length=25, do_sample=False)\n",
    "    return summary[0]['summary_text']\n",
    "\n",
    "# Function to calculate polarity score\n",
    "def get_polarity_score(text):\n",
    "    return analyzer.polarity_scores(text)['compound']\n",
    "\n",
    "# Ensure the 'date' column is in datetime format\n",
    "df_trump_tweets['date'] = pd.to_datetime(df_trump_tweets['date'])\n",
    "\n",
    "# Extract month and year from the 'date' column\n",
    "df_trump_tweets['month'] = df_trump_tweets['date'].dt.month\n",
    "df_trump_tweets['year'] = df_trump_tweets['date'].dt.year\n",
    "\n",
    "# Group by year and month\n",
    "grouped = df_trump_tweets.groupby(['year', 'month'])\n",
    "\n",
    "# Create a new DataFrame to store the summaries\n",
    "summaries = []\n",
    "\n",
    "for (year, month), group in grouped:\n",
    "    # Concatenate all text in the group\n",
    "    all_text = ' '.join(group['content'].astype(str).tolist())\n",
    "    # Summarize the concatenated text\n",
    "    summary = summarize_text(all_text)\n",
    "    # Calculate the polarity score of the summary\n",
    "    polarity_score = get_polarity_score(summary)\n",
    "    # Append the results to the summaries list\n",
    "    summaries.append({'year': year, 'month': month, 'summary': summary, 'polarity_score': polarity_score})\n",
    "\n",
    "# Create the new DataFrame\n",
    "df_trump_tweet_summaries = pd.DataFrame(summaries)\n",
    "\n",
    "# Display the new DataFrame\n",
    "print(df_trump_tweet_summaries.head())"
   ]
  },
  {
   "cell_type": "markdown",
   "metadata": {},
   "source": [
    "9. Print the polarity score of your summary you generated with the token scores (with an appropriate label). Additionally, print the number of sentences in the summarized article."
   ]
  },
  {
   "cell_type": "code",
   "execution_count": null,
   "metadata": {},
   "outputs": [],
   "source": []
  },
  {
   "cell_type": "markdown",
   "metadata": {},
   "source": [
    "10. Create a summary of the article by going through every sentence in the article and adding it to an (initially) empty list if its score (based on lemmas) is greater than the cutoff score you identified in question 8.  If your loop variable is named `sent`, you may find it easier to add `sent.text.strip()` to your list of sentences.  Print the summary (I would cleanly generate the summary text by `join`ing the strings in your list together with a space (`' '.join(sentence_list)`)."
   ]
  },
  {
   "cell_type": "code",
   "execution_count": null,
   "metadata": {},
   "outputs": [],
   "source": []
  },
  {
   "cell_type": "markdown",
   "metadata": {},
   "source": [
    "11. Print the polarity score of your summary you generated with the lemma scores (with an appropriate label). Additionally, print the number of sentences in the summarized article."
   ]
  },
  {
   "cell_type": "code",
   "execution_count": null,
   "metadata": {},
   "outputs": [],
   "source": []
  },
  {
   "cell_type": "markdown",
   "metadata": {},
   "source": [
    "12.  Compare your polarity scores of your summaries to the polarity scores of the initial article.  Is there a difference?  Why do you think that may or may not be?.  Answer in this Markdown cell.  "
   ]
  },
  {
   "cell_type": "markdown",
   "metadata": {},
   "source": [
    "13. Based on your reading of the original article, which summary do you think is better (if there's a difference).  Why do you think this might be?"
   ]
  }
 ],
 "metadata": {
  "kernelspec": {
   "display_name": ".venv",
   "language": "python",
   "name": "python3"
  },
  "language_info": {
   "codemirror_mode": {
    "name": "ipython",
    "version": 3
   },
   "file_extension": ".py",
   "mimetype": "text/x-python",
   "name": "python",
   "nbconvert_exporter": "python",
   "pygments_lexer": "ipython3",
   "version": "3.12.3"
  }
 },
 "nbformat": 4,
 "nbformat_minor": 4
}
